{
  "cells": [
    {
      "cell_type": "markdown",
      "metadata": {
        "id": "view-in-github",
        "colab_type": "text"
      },
      "source": [
        "<a href=\"https://colab.research.google.com/github/LadonON/Learning-ML/blob/main/1_getting_started.ipynb\" target=\"_parent\"><img src=\"https://colab.research.google.com/assets/colab-badge.svg\" alt=\"Open In Colab\"/></a>"
      ]
    },
    {
      "cell_type": "markdown",
      "metadata": {
        "id": "hyyN-2qyK_T2"
      },
      "source": [
        "# Stable Baselines3 Tutorial - Getting Started\n",
        "\n",
        "Github repo: https://github.com/araffin/rl-tutorial-jnrr19/tree/sb3/\n",
        "\n",
        "Stable-Baselines3: https://github.com/DLR-RM/stable-baselines3\n",
        "\n",
        "Documentation: https://stable-baselines3.readthedocs.io/en/master/\n",
        "\n",
        "SB3-Contrib: https://github.com/Stable-Baselines-Team/stable-baselines3-contrib\n",
        "\n",
        "RL Baselines3 zoo: https://github.com/DLR-RM/rl-baselines3-zoo\n",
        "\n",
        "[RL Baselines3 Zoo](https://github.com/DLR-RM/rl-baselines3-zoo) is a training framework for Reinforcement Learning (RL), using Stable Baselines3.\n",
        "\n",
        "It provides scripts for training, evaluating agents, tuning hyperparameters, plotting results and recording videos.\n",
        "\n",
        "\n",
        "## Introduction\n",
        "\n",
        "In this notebook, you will learn the basics for using stable baselines library: how to create a RL model, train it and evaluate it. Because all algorithms share the same interface, we will see how simple it is to switch from one algorithm to another.\n",
        "\n",
        "\n",
        "## Install Dependencies and Stable Baselines3 Using Pip\n",
        "\n",
        "List of full dependencies can be found in the [README](https://github.com/DLR-RM/stable-baselines3).\n",
        "\n",
        "\n",
        "```\n",
        "pip install stable-baselines3[extra]\n",
        "```"
      ]
    },
    {
      "cell_type": "code",
      "execution_count": 1,
      "metadata": {
        "id": "DytxF6ynrX8K"
      },
      "outputs": [],
      "source": [
        "# for autoformatting\n",
        "# %load_ext jupyter_black"
      ]
    },
    {
      "cell_type": "code",
      "execution_count": 2,
      "metadata": {
        "colab": {
          "base_uri": "https://localhost:8080/"
        },
        "id": "gWskDE2c9WoN",
        "outputId": "c7ab6586-9f83-4c8c-fa01-60a3b2802201"
      },
      "outputs": [
        {
          "output_type": "stream",
          "name": "stdout",
          "text": [
            "Reading package lists... Done\n",
            "Building dependency tree... Done\n",
            "Reading state information... Done\n",
            "ffmpeg is already the newest version (7:4.4.2-0ubuntu0.22.04.1).\n",
            "xvfb is already the newest version (2:21.1.4-2ubuntu1.7~22.04.15).\n",
            "The following additional packages will be installed:\n",
            "  freeglut3 libegl-dev libgl-dev libgl1-mesa-dev libgles-dev libgles1\n",
            "  libglu1-mesa libglu1-mesa-dev libglvnd-core-dev libglvnd-dev libglx-dev\n",
            "  libopengl-dev libxt-dev\n",
            "Suggested packages:\n",
            "  libxt-doc\n",
            "The following NEW packages will be installed:\n",
            "  freeglut3 freeglut3-dev libegl-dev libgl-dev libgl1-mesa-dev libgles-dev\n",
            "  libgles1 libglu1-mesa libglu1-mesa-dev libglvnd-core-dev libglvnd-dev\n",
            "  libglx-dev libopengl-dev libxt-dev\n",
            "0 upgraded, 14 newly installed, 0 to remove and 35 not upgraded.\n",
            "Need to get 1,192 kB of archives.\n",
            "After this operation, 6,439 kB of additional disk space will be used.\n",
            "Get:1 http://archive.ubuntu.com/ubuntu jammy/universe amd64 freeglut3 amd64 2.8.1-6 [74.0 kB]\n",
            "Get:2 http://archive.ubuntu.com/ubuntu jammy/main amd64 libglx-dev amd64 1.4.0-1 [14.1 kB]\n",
            "Get:3 http://archive.ubuntu.com/ubuntu jammy/main amd64 libgl-dev amd64 1.4.0-1 [101 kB]\n",
            "Get:4 http://archive.ubuntu.com/ubuntu jammy/main amd64 libglvnd-core-dev amd64 1.4.0-1 [12.7 kB]\n",
            "Get:5 http://archive.ubuntu.com/ubuntu jammy/main amd64 libegl-dev amd64 1.4.0-1 [18.0 kB]\n",
            "Get:6 http://archive.ubuntu.com/ubuntu jammy/main amd64 libgles1 amd64 1.4.0-1 [11.5 kB]\n",
            "Get:7 http://archive.ubuntu.com/ubuntu jammy/main amd64 libgles-dev amd64 1.4.0-1 [49.4 kB]\n",
            "Get:8 http://archive.ubuntu.com/ubuntu jammy/main amd64 libopengl-dev amd64 1.4.0-1 [3,400 B]\n",
            "Get:9 http://archive.ubuntu.com/ubuntu jammy/main amd64 libglvnd-dev amd64 1.4.0-1 [3,162 B]\n",
            "Get:10 http://archive.ubuntu.com/ubuntu jammy-updates/main amd64 libgl1-mesa-dev amd64 23.2.1-1ubuntu3.1~22.04.3 [6,848 B]\n",
            "Get:11 http://archive.ubuntu.com/ubuntu jammy/main amd64 libglu1-mesa amd64 9.0.2-1 [145 kB]\n",
            "Get:12 http://archive.ubuntu.com/ubuntu jammy/main amd64 libglu1-mesa-dev amd64 9.0.2-1 [231 kB]\n",
            "Get:13 http://archive.ubuntu.com/ubuntu jammy/main amd64 libxt-dev amd64 1:1.2.1-1 [396 kB]\n",
            "Get:14 http://archive.ubuntu.com/ubuntu jammy/universe amd64 freeglut3-dev amd64 2.8.1-6 [126 kB]\n",
            "Fetched 1,192 kB in 1s (855 kB/s)\n",
            "Selecting previously unselected package freeglut3:amd64.\n",
            "(Reading database ... 126380 files and directories currently installed.)\n",
            "Preparing to unpack .../00-freeglut3_2.8.1-6_amd64.deb ...\n",
            "Unpacking freeglut3:amd64 (2.8.1-6) ...\n",
            "Selecting previously unselected package libglx-dev:amd64.\n",
            "Preparing to unpack .../01-libglx-dev_1.4.0-1_amd64.deb ...\n",
            "Unpacking libglx-dev:amd64 (1.4.0-1) ...\n",
            "Selecting previously unselected package libgl-dev:amd64.\n",
            "Preparing to unpack .../02-libgl-dev_1.4.0-1_amd64.deb ...\n",
            "Unpacking libgl-dev:amd64 (1.4.0-1) ...\n",
            "Selecting previously unselected package libglvnd-core-dev:amd64.\n",
            "Preparing to unpack .../03-libglvnd-core-dev_1.4.0-1_amd64.deb ...\n",
            "Unpacking libglvnd-core-dev:amd64 (1.4.0-1) ...\n",
            "Selecting previously unselected package libegl-dev:amd64.\n",
            "Preparing to unpack .../04-libegl-dev_1.4.0-1_amd64.deb ...\n",
            "Unpacking libegl-dev:amd64 (1.4.0-1) ...\n",
            "Selecting previously unselected package libgles1:amd64.\n",
            "Preparing to unpack .../05-libgles1_1.4.0-1_amd64.deb ...\n",
            "Unpacking libgles1:amd64 (1.4.0-1) ...\n",
            "Selecting previously unselected package libgles-dev:amd64.\n",
            "Preparing to unpack .../06-libgles-dev_1.4.0-1_amd64.deb ...\n",
            "Unpacking libgles-dev:amd64 (1.4.0-1) ...\n",
            "Selecting previously unselected package libopengl-dev:amd64.\n",
            "Preparing to unpack .../07-libopengl-dev_1.4.0-1_amd64.deb ...\n",
            "Unpacking libopengl-dev:amd64 (1.4.0-1) ...\n",
            "Selecting previously unselected package libglvnd-dev:amd64.\n",
            "Preparing to unpack .../08-libglvnd-dev_1.4.0-1_amd64.deb ...\n",
            "Unpacking libglvnd-dev:amd64 (1.4.0-1) ...\n",
            "Selecting previously unselected package libgl1-mesa-dev:amd64.\n",
            "Preparing to unpack .../09-libgl1-mesa-dev_23.2.1-1ubuntu3.1~22.04.3_amd64.deb ...\n",
            "Unpacking libgl1-mesa-dev:amd64 (23.2.1-1ubuntu3.1~22.04.3) ...\n",
            "Selecting previously unselected package libglu1-mesa:amd64.\n",
            "Preparing to unpack .../10-libglu1-mesa_9.0.2-1_amd64.deb ...\n",
            "Unpacking libglu1-mesa:amd64 (9.0.2-1) ...\n",
            "Selecting previously unselected package libglu1-mesa-dev:amd64.\n",
            "Preparing to unpack .../11-libglu1-mesa-dev_9.0.2-1_amd64.deb ...\n",
            "Unpacking libglu1-mesa-dev:amd64 (9.0.2-1) ...\n",
            "Selecting previously unselected package libxt-dev:amd64.\n",
            "Preparing to unpack .../12-libxt-dev_1%3a1.2.1-1_amd64.deb ...\n",
            "Unpacking libxt-dev:amd64 (1:1.2.1-1) ...\n",
            "Selecting previously unselected package freeglut3-dev:amd64.\n",
            "Preparing to unpack .../13-freeglut3-dev_2.8.1-6_amd64.deb ...\n",
            "Unpacking freeglut3-dev:amd64 (2.8.1-6) ...\n",
            "Setting up freeglut3:amd64 (2.8.1-6) ...\n",
            "Setting up libglvnd-core-dev:amd64 (1.4.0-1) ...\n",
            "Setting up libxt-dev:amd64 (1:1.2.1-1) ...\n",
            "Setting up libgles1:amd64 (1.4.0-1) ...\n",
            "Setting up libglx-dev:amd64 (1.4.0-1) ...\n",
            "Setting up libglu1-mesa:amd64 (9.0.2-1) ...\n",
            "Setting up libopengl-dev:amd64 (1.4.0-1) ...\n",
            "Setting up libgl-dev:amd64 (1.4.0-1) ...\n",
            "Setting up libegl-dev:amd64 (1.4.0-1) ...\n",
            "Setting up libglu1-mesa-dev:amd64 (9.0.2-1) ...\n",
            "Setting up libgles-dev:amd64 (1.4.0-1) ...\n",
            "Setting up libglvnd-dev:amd64 (1.4.0-1) ...\n",
            "Setting up libgl1-mesa-dev:amd64 (23.2.1-1ubuntu3.1~22.04.3) ...\n",
            "Setting up freeglut3-dev:amd64 (2.8.1-6) ...\n",
            "Processing triggers for man-db (2.10.2-1) ...\n",
            "Processing triggers for libc-bin (2.35-0ubuntu3.8) ...\n",
            "/sbin/ldconfig.real: /usr/local/lib/libur_adapter_opencl.so.0 is not a symbolic link\n",
            "\n",
            "/sbin/ldconfig.real: /usr/local/lib/libtbbbind_2_5.so.3 is not a symbolic link\n",
            "\n",
            "/sbin/ldconfig.real: /usr/local/lib/libtcm_debug.so.1 is not a symbolic link\n",
            "\n",
            "/sbin/ldconfig.real: /usr/local/lib/libur_loader.so.0 is not a symbolic link\n",
            "\n",
            "/sbin/ldconfig.real: /usr/local/lib/libtbbbind.so.3 is not a symbolic link\n",
            "\n",
            "/sbin/ldconfig.real: /usr/local/lib/libumf.so.0 is not a symbolic link\n",
            "\n",
            "/sbin/ldconfig.real: /usr/local/lib/libhwloc.so.15 is not a symbolic link\n",
            "\n",
            "/sbin/ldconfig.real: /usr/local/lib/libtbbmalloc.so.2 is not a symbolic link\n",
            "\n",
            "/sbin/ldconfig.real: /usr/local/lib/libtcm.so.1 is not a symbolic link\n",
            "\n",
            "/sbin/ldconfig.real: /usr/local/lib/libur_adapter_level_zero.so.0 is not a symbolic link\n",
            "\n",
            "/sbin/ldconfig.real: /usr/local/lib/libtbb.so.12 is not a symbolic link\n",
            "\n",
            "/sbin/ldconfig.real: /usr/local/lib/libur_adapter_level_zero_v2.so.0 is not a symbolic link\n",
            "\n",
            "/sbin/ldconfig.real: /usr/local/lib/libtbbbind_2_0.so.3 is not a symbolic link\n",
            "\n",
            "/sbin/ldconfig.real: /usr/local/lib/libtbbmalloc_proxy.so.2 is not a symbolic link\n",
            "\n",
            "Collecting stable-baselines3>=2.0.0a4 (from stable-baselines3[extra]>=2.0.0a4)\n",
            "  Downloading stable_baselines3-2.7.0-py3-none-any.whl.metadata (4.8 kB)\n",
            "Requirement already satisfied: gymnasium<1.3.0,>=0.29.1 in /usr/local/lib/python3.11/dist-packages (from stable-baselines3>=2.0.0a4->stable-baselines3[extra]>=2.0.0a4) (1.2.0)\n",
            "Requirement already satisfied: numpy<3.0,>=1.20 in /usr/local/lib/python3.11/dist-packages (from stable-baselines3>=2.0.0a4->stable-baselines3[extra]>=2.0.0a4) (2.0.2)\n",
            "Requirement already satisfied: torch<3.0,>=2.3 in /usr/local/lib/python3.11/dist-packages (from stable-baselines3>=2.0.0a4->stable-baselines3[extra]>=2.0.0a4) (2.6.0+cu124)\n",
            "Requirement already satisfied: cloudpickle in /usr/local/lib/python3.11/dist-packages (from stable-baselines3>=2.0.0a4->stable-baselines3[extra]>=2.0.0a4) (3.1.1)\n",
            "Requirement already satisfied: pandas in /usr/local/lib/python3.11/dist-packages (from stable-baselines3>=2.0.0a4->stable-baselines3[extra]>=2.0.0a4) (2.2.2)\n",
            "Requirement already satisfied: matplotlib in /usr/local/lib/python3.11/dist-packages (from stable-baselines3>=2.0.0a4->stable-baselines3[extra]>=2.0.0a4) (3.10.0)\n",
            "Requirement already satisfied: opencv-python in /usr/local/lib/python3.11/dist-packages (from stable-baselines3[extra]>=2.0.0a4) (4.12.0.88)\n",
            "Requirement already satisfied: pygame in /usr/local/lib/python3.11/dist-packages (from stable-baselines3[extra]>=2.0.0a4) (2.6.1)\n",
            "Requirement already satisfied: tensorboard>=2.9.1 in /usr/local/lib/python3.11/dist-packages (from stable-baselines3[extra]>=2.0.0a4) (2.19.0)\n",
            "Requirement already satisfied: psutil in /usr/local/lib/python3.11/dist-packages (from stable-baselines3[extra]>=2.0.0a4) (5.9.5)\n",
            "Requirement already satisfied: tqdm in /usr/local/lib/python3.11/dist-packages (from stable-baselines3[extra]>=2.0.0a4) (4.67.1)\n",
            "Requirement already satisfied: rich in /usr/local/lib/python3.11/dist-packages (from stable-baselines3[extra]>=2.0.0a4) (13.9.4)\n",
            "Requirement already satisfied: ale-py>=0.9.0 in /usr/local/lib/python3.11/dist-packages (from stable-baselines3[extra]>=2.0.0a4) (0.11.2)\n",
            "Requirement already satisfied: pillow in /usr/local/lib/python3.11/dist-packages (from stable-baselines3[extra]>=2.0.0a4) (11.3.0)\n",
            "Requirement already satisfied: typing-extensions>=4.3.0 in /usr/local/lib/python3.11/dist-packages (from gymnasium<1.3.0,>=0.29.1->stable-baselines3>=2.0.0a4->stable-baselines3[extra]>=2.0.0a4) (4.14.1)\n",
            "Requirement already satisfied: farama-notifications>=0.0.1 in /usr/local/lib/python3.11/dist-packages (from gymnasium<1.3.0,>=0.29.1->stable-baselines3>=2.0.0a4->stable-baselines3[extra]>=2.0.0a4) (0.0.4)\n",
            "Requirement already satisfied: absl-py>=0.4 in /usr/local/lib/python3.11/dist-packages (from tensorboard>=2.9.1->stable-baselines3[extra]>=2.0.0a4) (1.4.0)\n",
            "Requirement already satisfied: grpcio>=1.48.2 in /usr/local/lib/python3.11/dist-packages (from tensorboard>=2.9.1->stable-baselines3[extra]>=2.0.0a4) (1.74.0)\n",
            "Requirement already satisfied: markdown>=2.6.8 in /usr/local/lib/python3.11/dist-packages (from tensorboard>=2.9.1->stable-baselines3[extra]>=2.0.0a4) (3.8.2)\n",
            "Requirement already satisfied: packaging in /usr/local/lib/python3.11/dist-packages (from tensorboard>=2.9.1->stable-baselines3[extra]>=2.0.0a4) (25.0)\n",
            "Requirement already satisfied: protobuf!=4.24.0,>=3.19.6 in /usr/local/lib/python3.11/dist-packages (from tensorboard>=2.9.1->stable-baselines3[extra]>=2.0.0a4) (5.29.5)\n",
            "Requirement already satisfied: setuptools>=41.0.0 in /usr/local/lib/python3.11/dist-packages (from tensorboard>=2.9.1->stable-baselines3[extra]>=2.0.0a4) (75.2.0)\n",
            "Requirement already satisfied: six>1.9 in /usr/local/lib/python3.11/dist-packages (from tensorboard>=2.9.1->stable-baselines3[extra]>=2.0.0a4) (1.17.0)\n",
            "Requirement already satisfied: tensorboard-data-server<0.8.0,>=0.7.0 in /usr/local/lib/python3.11/dist-packages (from tensorboard>=2.9.1->stable-baselines3[extra]>=2.0.0a4) (0.7.2)\n",
            "Requirement already satisfied: werkzeug>=1.0.1 in /usr/local/lib/python3.11/dist-packages (from tensorboard>=2.9.1->stable-baselines3[extra]>=2.0.0a4) (3.1.3)\n",
            "Requirement already satisfied: filelock in /usr/local/lib/python3.11/dist-packages (from torch<3.0,>=2.3->stable-baselines3>=2.0.0a4->stable-baselines3[extra]>=2.0.0a4) (3.18.0)\n",
            "Requirement already satisfied: networkx in /usr/local/lib/python3.11/dist-packages (from torch<3.0,>=2.3->stable-baselines3>=2.0.0a4->stable-baselines3[extra]>=2.0.0a4) (3.5)\n",
            "Requirement already satisfied: jinja2 in /usr/local/lib/python3.11/dist-packages (from torch<3.0,>=2.3->stable-baselines3>=2.0.0a4->stable-baselines3[extra]>=2.0.0a4) (3.1.6)\n",
            "Requirement already satisfied: fsspec in /usr/local/lib/python3.11/dist-packages (from torch<3.0,>=2.3->stable-baselines3>=2.0.0a4->stable-baselines3[extra]>=2.0.0a4) (2025.3.0)\n",
            "Collecting nvidia-cuda-nvrtc-cu12==12.4.127 (from torch<3.0,>=2.3->stable-baselines3>=2.0.0a4->stable-baselines3[extra]>=2.0.0a4)\n",
            "  Downloading nvidia_cuda_nvrtc_cu12-12.4.127-py3-none-manylinux2014_x86_64.whl.metadata (1.5 kB)\n",
            "Collecting nvidia-cuda-runtime-cu12==12.4.127 (from torch<3.0,>=2.3->stable-baselines3>=2.0.0a4->stable-baselines3[extra]>=2.0.0a4)\n",
            "  Downloading nvidia_cuda_runtime_cu12-12.4.127-py3-none-manylinux2014_x86_64.whl.metadata (1.5 kB)\n",
            "Collecting nvidia-cuda-cupti-cu12==12.4.127 (from torch<3.0,>=2.3->stable-baselines3>=2.0.0a4->stable-baselines3[extra]>=2.0.0a4)\n",
            "  Downloading nvidia_cuda_cupti_cu12-12.4.127-py3-none-manylinux2014_x86_64.whl.metadata (1.6 kB)\n",
            "Collecting nvidia-cudnn-cu12==9.1.0.70 (from torch<3.0,>=2.3->stable-baselines3>=2.0.0a4->stable-baselines3[extra]>=2.0.0a4)\n",
            "  Downloading nvidia_cudnn_cu12-9.1.0.70-py3-none-manylinux2014_x86_64.whl.metadata (1.6 kB)\n",
            "Collecting nvidia-cublas-cu12==12.4.5.8 (from torch<3.0,>=2.3->stable-baselines3>=2.0.0a4->stable-baselines3[extra]>=2.0.0a4)\n",
            "  Downloading nvidia_cublas_cu12-12.4.5.8-py3-none-manylinux2014_x86_64.whl.metadata (1.5 kB)\n",
            "Collecting nvidia-cufft-cu12==11.2.1.3 (from torch<3.0,>=2.3->stable-baselines3>=2.0.0a4->stable-baselines3[extra]>=2.0.0a4)\n",
            "  Downloading nvidia_cufft_cu12-11.2.1.3-py3-none-manylinux2014_x86_64.whl.metadata (1.5 kB)\n",
            "Collecting nvidia-curand-cu12==10.3.5.147 (from torch<3.0,>=2.3->stable-baselines3>=2.0.0a4->stable-baselines3[extra]>=2.0.0a4)\n",
            "  Downloading nvidia_curand_cu12-10.3.5.147-py3-none-manylinux2014_x86_64.whl.metadata (1.5 kB)\n",
            "Collecting nvidia-cusolver-cu12==11.6.1.9 (from torch<3.0,>=2.3->stable-baselines3>=2.0.0a4->stable-baselines3[extra]>=2.0.0a4)\n",
            "  Downloading nvidia_cusolver_cu12-11.6.1.9-py3-none-manylinux2014_x86_64.whl.metadata (1.6 kB)\n",
            "Collecting nvidia-cusparse-cu12==12.3.1.170 (from torch<3.0,>=2.3->stable-baselines3>=2.0.0a4->stable-baselines3[extra]>=2.0.0a4)\n",
            "  Downloading nvidia_cusparse_cu12-12.3.1.170-py3-none-manylinux2014_x86_64.whl.metadata (1.6 kB)\n",
            "Requirement already satisfied: nvidia-cusparselt-cu12==0.6.2 in /usr/local/lib/python3.11/dist-packages (from torch<3.0,>=2.3->stable-baselines3>=2.0.0a4->stable-baselines3[extra]>=2.0.0a4) (0.6.2)\n",
            "Collecting nvidia-nccl-cu12==2.21.5 (from torch<3.0,>=2.3->stable-baselines3>=2.0.0a4->stable-baselines3[extra]>=2.0.0a4)\n",
            "  Downloading nvidia_nccl_cu12-2.21.5-py3-none-manylinux2014_x86_64.whl.metadata (1.8 kB)\n",
            "Requirement already satisfied: nvidia-nvtx-cu12==12.4.127 in /usr/local/lib/python3.11/dist-packages (from torch<3.0,>=2.3->stable-baselines3>=2.0.0a4->stable-baselines3[extra]>=2.0.0a4) (12.4.127)\n",
            "Collecting nvidia-nvjitlink-cu12==12.4.127 (from torch<3.0,>=2.3->stable-baselines3>=2.0.0a4->stable-baselines3[extra]>=2.0.0a4)\n",
            "  Downloading nvidia_nvjitlink_cu12-12.4.127-py3-none-manylinux2014_x86_64.whl.metadata (1.5 kB)\n",
            "Requirement already satisfied: triton==3.2.0 in /usr/local/lib/python3.11/dist-packages (from torch<3.0,>=2.3->stable-baselines3>=2.0.0a4->stable-baselines3[extra]>=2.0.0a4) (3.2.0)\n",
            "Requirement already satisfied: sympy==1.13.1 in /usr/local/lib/python3.11/dist-packages (from torch<3.0,>=2.3->stable-baselines3>=2.0.0a4->stable-baselines3[extra]>=2.0.0a4) (1.13.1)\n",
            "Requirement already satisfied: mpmath<1.4,>=1.1.0 in /usr/local/lib/python3.11/dist-packages (from sympy==1.13.1->torch<3.0,>=2.3->stable-baselines3>=2.0.0a4->stable-baselines3[extra]>=2.0.0a4) (1.3.0)\n",
            "Requirement already satisfied: contourpy>=1.0.1 in /usr/local/lib/python3.11/dist-packages (from matplotlib->stable-baselines3>=2.0.0a4->stable-baselines3[extra]>=2.0.0a4) (1.3.3)\n",
            "Requirement already satisfied: cycler>=0.10 in /usr/local/lib/python3.11/dist-packages (from matplotlib->stable-baselines3>=2.0.0a4->stable-baselines3[extra]>=2.0.0a4) (0.12.1)\n",
            "Requirement already satisfied: fonttools>=4.22.0 in /usr/local/lib/python3.11/dist-packages (from matplotlib->stable-baselines3>=2.0.0a4->stable-baselines3[extra]>=2.0.0a4) (4.59.0)\n",
            "Requirement already satisfied: kiwisolver>=1.3.1 in /usr/local/lib/python3.11/dist-packages (from matplotlib->stable-baselines3>=2.0.0a4->stable-baselines3[extra]>=2.0.0a4) (1.4.9)\n",
            "Requirement already satisfied: pyparsing>=2.3.1 in /usr/local/lib/python3.11/dist-packages (from matplotlib->stable-baselines3>=2.0.0a4->stable-baselines3[extra]>=2.0.0a4) (3.2.3)\n",
            "Requirement already satisfied: python-dateutil>=2.7 in /usr/local/lib/python3.11/dist-packages (from matplotlib->stable-baselines3>=2.0.0a4->stable-baselines3[extra]>=2.0.0a4) (2.9.0.post0)\n",
            "Requirement already satisfied: pytz>=2020.1 in /usr/local/lib/python3.11/dist-packages (from pandas->stable-baselines3>=2.0.0a4->stable-baselines3[extra]>=2.0.0a4) (2025.2)\n",
            "Requirement already satisfied: tzdata>=2022.7 in /usr/local/lib/python3.11/dist-packages (from pandas->stable-baselines3>=2.0.0a4->stable-baselines3[extra]>=2.0.0a4) (2025.2)\n",
            "Requirement already satisfied: markdown-it-py>=2.2.0 in /usr/local/lib/python3.11/dist-packages (from rich->stable-baselines3[extra]>=2.0.0a4) (4.0.0)\n",
            "Requirement already satisfied: pygments<3.0.0,>=2.13.0 in /usr/local/lib/python3.11/dist-packages (from rich->stable-baselines3[extra]>=2.0.0a4) (2.19.2)\n",
            "Requirement already satisfied: mdurl~=0.1 in /usr/local/lib/python3.11/dist-packages (from markdown-it-py>=2.2.0->rich->stable-baselines3[extra]>=2.0.0a4) (0.1.2)\n",
            "Requirement already satisfied: MarkupSafe>=2.1.1 in /usr/local/lib/python3.11/dist-packages (from werkzeug>=1.0.1->tensorboard>=2.9.1->stable-baselines3[extra]>=2.0.0a4) (3.0.2)\n",
            "Downloading stable_baselines3-2.7.0-py3-none-any.whl (187 kB)\n",
            "\u001b[2K   \u001b[90m━━━━━━━━━━━━━━━━━━━━━━━━━━━━━━━━━━━━━━━━\u001b[0m \u001b[32m187.2/187.2 kB\u001b[0m \u001b[31m6.1 MB/s\u001b[0m eta \u001b[36m0:00:00\u001b[0m\n",
            "\u001b[?25hDownloading nvidia_cublas_cu12-12.4.5.8-py3-none-manylinux2014_x86_64.whl (363.4 MB)\n",
            "\u001b[2K   \u001b[90m━━━━━━━━━━━━━━━━━━━━━━━━━━━━━━━━━━━━━━━━\u001b[0m \u001b[32m363.4/363.4 MB\u001b[0m \u001b[31m3.7 MB/s\u001b[0m eta \u001b[36m0:00:00\u001b[0m\n",
            "\u001b[?25hDownloading nvidia_cuda_cupti_cu12-12.4.127-py3-none-manylinux2014_x86_64.whl (13.8 MB)\n",
            "\u001b[2K   \u001b[90m━━━━━━━━━━━━━━━━━━━━━━━━━━━━━━━━━━━━━━━━\u001b[0m \u001b[32m13.8/13.8 MB\u001b[0m \u001b[31m57.0 MB/s\u001b[0m eta \u001b[36m0:00:00\u001b[0m\n",
            "\u001b[?25hDownloading nvidia_cuda_nvrtc_cu12-12.4.127-py3-none-manylinux2014_x86_64.whl (24.6 MB)\n",
            "\u001b[2K   \u001b[90m━━━━━━━━━━━━━━━━━━━━━━━━━━━━━━━━━━━━━━━━\u001b[0m \u001b[32m24.6/24.6 MB\u001b[0m \u001b[31m32.1 MB/s\u001b[0m eta \u001b[36m0:00:00\u001b[0m\n",
            "\u001b[?25hDownloading nvidia_cuda_runtime_cu12-12.4.127-py3-none-manylinux2014_x86_64.whl (883 kB)\n",
            "\u001b[2K   \u001b[90m━━━━━━━━━━━━━━━━━━━━━━━━━━━━━━━━━━━━━━━━\u001b[0m \u001b[32m883.7/883.7 kB\u001b[0m \u001b[31m33.4 MB/s\u001b[0m eta \u001b[36m0:00:00\u001b[0m\n",
            "\u001b[?25hDownloading nvidia_cudnn_cu12-9.1.0.70-py3-none-manylinux2014_x86_64.whl (664.8 MB)\n",
            "\u001b[2K   \u001b[90m━━━━━━━━━━━━━━━━━━━━━━━━━━━━━━━━━━━━━━━━\u001b[0m \u001b[32m664.8/664.8 MB\u001b[0m \u001b[31m1.3 MB/s\u001b[0m eta \u001b[36m0:00:00\u001b[0m\n",
            "\u001b[?25hDownloading nvidia_cufft_cu12-11.2.1.3-py3-none-manylinux2014_x86_64.whl (211.5 MB)\n",
            "\u001b[2K   \u001b[90m━━━━━━━━━━━━━━━━━━━━━━━━━━━━━━━━━━━━━━━━\u001b[0m \u001b[32m211.5/211.5 MB\u001b[0m \u001b[31m5.9 MB/s\u001b[0m eta \u001b[36m0:00:00\u001b[0m\n",
            "\u001b[?25hDownloading nvidia_curand_cu12-10.3.5.147-py3-none-manylinux2014_x86_64.whl (56.3 MB)\n",
            "\u001b[2K   \u001b[90m━━━━━━━━━━━━━━━━━━━━━━━━━━━━━━━━━━━━━━━━\u001b[0m \u001b[32m56.3/56.3 MB\u001b[0m \u001b[31m13.0 MB/s\u001b[0m eta \u001b[36m0:00:00\u001b[0m\n",
            "\u001b[?25hDownloading nvidia_cusolver_cu12-11.6.1.9-py3-none-manylinux2014_x86_64.whl (127.9 MB)\n",
            "\u001b[2K   \u001b[90m━━━━━━━━━━━━━━━━━━━━━━━━━━━━━━━━━━━━━━━━\u001b[0m \u001b[32m127.9/127.9 MB\u001b[0m \u001b[31m7.1 MB/s\u001b[0m eta \u001b[36m0:00:00\u001b[0m\n",
            "\u001b[?25hDownloading nvidia_cusparse_cu12-12.3.1.170-py3-none-manylinux2014_x86_64.whl (207.5 MB)\n",
            "\u001b[2K   \u001b[90m━━━━━━━━━━━━━━━━━━━━━━━━━━━━━━━━━━━━━━━━\u001b[0m \u001b[32m207.5/207.5 MB\u001b[0m \u001b[31m5.4 MB/s\u001b[0m eta \u001b[36m0:00:00\u001b[0m\n",
            "\u001b[?25hDownloading nvidia_nccl_cu12-2.21.5-py3-none-manylinux2014_x86_64.whl (188.7 MB)\n",
            "\u001b[2K   \u001b[90m━━━━━━━━━━━━━━━━━━━━━━━━━━━━━━━━━━━━━━━━\u001b[0m \u001b[32m188.7/188.7 MB\u001b[0m \u001b[31m5.9 MB/s\u001b[0m eta \u001b[36m0:00:00\u001b[0m\n",
            "\u001b[?25hDownloading nvidia_nvjitlink_cu12-12.4.127-py3-none-manylinux2014_x86_64.whl (21.1 MB)\n",
            "\u001b[2K   \u001b[90m━━━━━━━━━━━━━━━━━━━━━━━━━━━━━━━━━━━━━━━━\u001b[0m \u001b[32m21.1/21.1 MB\u001b[0m \u001b[31m96.8 MB/s\u001b[0m eta \u001b[36m0:00:00\u001b[0m\n",
            "\u001b[?25hInstalling collected packages: nvidia-nvjitlink-cu12, nvidia-nccl-cu12, nvidia-curand-cu12, nvidia-cufft-cu12, nvidia-cuda-runtime-cu12, nvidia-cuda-nvrtc-cu12, nvidia-cuda-cupti-cu12, nvidia-cublas-cu12, nvidia-cusparse-cu12, nvidia-cudnn-cu12, nvidia-cusolver-cu12, stable-baselines3\n",
            "  Attempting uninstall: nvidia-nvjitlink-cu12\n",
            "    Found existing installation: nvidia-nvjitlink-cu12 12.5.82\n",
            "    Uninstalling nvidia-nvjitlink-cu12-12.5.82:\n",
            "      Successfully uninstalled nvidia-nvjitlink-cu12-12.5.82\n",
            "  Attempting uninstall: nvidia-nccl-cu12\n",
            "    Found existing installation: nvidia-nccl-cu12 2.23.4\n",
            "    Uninstalling nvidia-nccl-cu12-2.23.4:\n",
            "      Successfully uninstalled nvidia-nccl-cu12-2.23.4\n",
            "  Attempting uninstall: nvidia-curand-cu12\n",
            "    Found existing installation: nvidia-curand-cu12 10.3.6.82\n",
            "    Uninstalling nvidia-curand-cu12-10.3.6.82:\n",
            "      Successfully uninstalled nvidia-curand-cu12-10.3.6.82\n",
            "  Attempting uninstall: nvidia-cufft-cu12\n",
            "    Found existing installation: nvidia-cufft-cu12 11.2.3.61\n",
            "    Uninstalling nvidia-cufft-cu12-11.2.3.61:\n",
            "      Successfully uninstalled nvidia-cufft-cu12-11.2.3.61\n",
            "  Attempting uninstall: nvidia-cuda-runtime-cu12\n",
            "    Found existing installation: nvidia-cuda-runtime-cu12 12.5.82\n",
            "    Uninstalling nvidia-cuda-runtime-cu12-12.5.82:\n",
            "      Successfully uninstalled nvidia-cuda-runtime-cu12-12.5.82\n",
            "  Attempting uninstall: nvidia-cuda-nvrtc-cu12\n",
            "    Found existing installation: nvidia-cuda-nvrtc-cu12 12.5.82\n",
            "    Uninstalling nvidia-cuda-nvrtc-cu12-12.5.82:\n",
            "      Successfully uninstalled nvidia-cuda-nvrtc-cu12-12.5.82\n",
            "  Attempting uninstall: nvidia-cuda-cupti-cu12\n",
            "    Found existing installation: nvidia-cuda-cupti-cu12 12.5.82\n",
            "    Uninstalling nvidia-cuda-cupti-cu12-12.5.82:\n",
            "      Successfully uninstalled nvidia-cuda-cupti-cu12-12.5.82\n",
            "  Attempting uninstall: nvidia-cublas-cu12\n",
            "    Found existing installation: nvidia-cublas-cu12 12.5.3.2\n",
            "    Uninstalling nvidia-cublas-cu12-12.5.3.2:\n",
            "      Successfully uninstalled nvidia-cublas-cu12-12.5.3.2\n",
            "  Attempting uninstall: nvidia-cusparse-cu12\n",
            "    Found existing installation: nvidia-cusparse-cu12 12.5.1.3\n",
            "    Uninstalling nvidia-cusparse-cu12-12.5.1.3:\n",
            "      Successfully uninstalled nvidia-cusparse-cu12-12.5.1.3\n",
            "  Attempting uninstall: nvidia-cudnn-cu12\n",
            "    Found existing installation: nvidia-cudnn-cu12 9.3.0.75\n",
            "    Uninstalling nvidia-cudnn-cu12-9.3.0.75:\n",
            "      Successfully uninstalled nvidia-cudnn-cu12-9.3.0.75\n",
            "  Attempting uninstall: nvidia-cusolver-cu12\n",
            "    Found existing installation: nvidia-cusolver-cu12 11.6.3.83\n",
            "    Uninstalling nvidia-cusolver-cu12-11.6.3.83:\n",
            "      Successfully uninstalled nvidia-cusolver-cu12-11.6.3.83\n",
            "Successfully installed nvidia-cublas-cu12-12.4.5.8 nvidia-cuda-cupti-cu12-12.4.127 nvidia-cuda-nvrtc-cu12-12.4.127 nvidia-cuda-runtime-cu12-12.4.127 nvidia-cudnn-cu12-9.1.0.70 nvidia-cufft-cu12-11.2.1.3 nvidia-curand-cu12-10.3.5.147 nvidia-cusolver-cu12-11.6.1.9 nvidia-cusparse-cu12-12.3.1.170 nvidia-nccl-cu12-2.21.5 nvidia-nvjitlink-cu12-12.4.127 stable-baselines3-2.7.0\n"
          ]
        }
      ],
      "source": [
        "!apt-get install ffmpeg freeglut3-dev xvfb  # For visualization\n",
        "!pip install \"stable-baselines3[extra]>=2.0.0a4\""
      ]
    },
    {
      "cell_type": "markdown",
      "metadata": {
        "id": "FtY8FhliLsGm"
      },
      "source": [
        "## Imports"
      ]
    },
    {
      "cell_type": "markdown",
      "metadata": {
        "id": "gcX8hEcaUpR0"
      },
      "source": [
        "Stable-Baselines3 works on environments that follow the [gym interface](https://stable-baselines3.readthedocs.io/en/master/guide/custom_env.html).\n",
        "You can find a list of available environment [here](https://gymnasium.farama.org/environments/classic_control/).\n",
        "\n",
        "Not all algorithms can work with all action spaces, you can find more in this [recap table](https://stable-baselines3.readthedocs.io/en/master/guide/algos.html)"
      ]
    },
    {
      "cell_type": "code",
      "execution_count": 3,
      "metadata": {
        "id": "BIedd7Pz9sOs"
      },
      "outputs": [],
      "source": [
        "import gymnasium as gym\n",
        "import numpy as np"
      ]
    },
    {
      "cell_type": "markdown",
      "metadata": {
        "id": "Ae32CtgzTG3R"
      },
      "source": [
        "The first thing you need to import is the RL model, check the documentation to know what you can use on which problem"
      ]
    },
    {
      "cell_type": "code",
      "execution_count": 4,
      "metadata": {
        "colab": {
          "base_uri": "https://localhost:8080/"
        },
        "id": "R7tKaBFrTR0a",
        "outputId": "c6dcd948-ae81-4c23-8c7a-c4c8a3b7842e"
      },
      "outputs": [
        {
          "output_type": "stream",
          "name": "stderr",
          "text": [
            "Gym has been unmaintained since 2022 and does not support NumPy 2.0 amongst other critical functionality.\n",
            "Please upgrade to Gymnasium, the maintained drop-in replacement of Gym, or contact the authors of your software and request that they upgrade.\n",
            "See the migration guide at https://gymnasium.farama.org/introduction/migration_guide/ for additional information.\n"
          ]
        }
      ],
      "source": [
        "from stable_baselines3 import PPO"
      ]
    },
    {
      "cell_type": "markdown",
      "metadata": {
        "id": "-0_8OQbOTTNT"
      },
      "source": [
        "The next thing you need to import is the policy class that will be used to create the networks (for the policy/value functions).\n",
        "This step is optional as you can directly use strings in the constructor:\n",
        "\n",
        "```PPO('MlpPolicy', env)``` instead of ```PPO(MlpPolicy, env)```\n",
        "\n",
        "Note that some algorithms like `SAC` have their own `MlpPolicy`, that's why using string for the policy is the recommended option."
      ]
    },
    {
      "cell_type": "code",
      "execution_count": 5,
      "metadata": {
        "id": "ROUJr675TT01"
      },
      "outputs": [],
      "source": [
        "from stable_baselines3.ppo.policies import MlpPolicy"
      ]
    },
    {
      "cell_type": "markdown",
      "metadata": {
        "id": "RapkYvTXL7Cd"
      },
      "source": [
        "## Create the Gym env and instantiate the agent\n",
        "\n",
        "For this example, we will use CartPole environment, a classic control problem.\n",
        "\n",
        "\"A pole is attached by an un-actuated joint to a cart, which moves along a frictionless track. The system is controlled by applying a force of +1 or -1 to the cart. The pendulum starts upright, and the goal is to prevent it from falling over. A reward of +1 is provided for every timestep that the pole remains upright. \"\n",
        "\n",
        "Cartpole environment: [https://gymnasium.farama.org/environments/classic_control/cart_pole/](https://gymnasium.farama.org/environments/classic_control/cart_pole/)\n",
        "\n",
        "![Cartpole](https://cdn-images-1.medium.com/max/1143/1*h4WTQNVIsvMXJTCpXm_TAw.gif)\n",
        "\n",
        "\n",
        "We chose the MlpPolicy because the observation of the CartPole task is a feature vector, not images.\n",
        "\n",
        "The type of action to use (discrete/continuous) will be automatically deduced from the environment action space\n",
        "\n",
        "Here we are using the [Proximal Policy Optimization](https://stable-baselines3.readthedocs.io/en/master/modules/ppo.html) algorithm, which is an Actor-Critic method: it uses a value function to improve the policy gradient descent (by reducing the variance).\n",
        "\n",
        "It combines ideas from [A2C](https://stable-baselines3.readthedocs.io/en/master/modules/a2c.html) (having multiple workers and using an entropy bonus for exploration) and [TRPO](https://stable-baselines.readthedocs.io/en/master/modules/trpo.html) (it uses a trust region to improve stability and avoid catastrophic drops in performance).\n",
        "\n",
        "PPO is an on-policy algorithm, which means that the trajectories used to update the networks must be collected using the latest policy.\n",
        "It is usually less sample efficient than off-policy alorithms like [DQN](https://stable-baselines.readthedocs.io/en/master/modules/dqn.html), [SAC](https://stable-baselines3.readthedocs.io/en/master/modules/sac.html) or [TD3](https://stable-baselines3.readthedocs.io/en/master/modules/td3.html), but is much faster regarding wall-clock time.\n"
      ]
    },
    {
      "cell_type": "code",
      "execution_count": 6,
      "metadata": {
        "colab": {
          "base_uri": "https://localhost:8080/"
        },
        "id": "pUWGZp3i9wyf",
        "outputId": "76f5456f-08b9-4208-f31e-cd3a38b79f39"
      },
      "outputs": [
        {
          "output_type": "stream",
          "name": "stderr",
          "text": [
            "/usr/local/lib/python3.11/dist-packages/stable_baselines3/common/on_policy_algorithm.py:150: UserWarning: You are trying to run PPO on the GPU, but it is primarily intended to run on the CPU when not using a CNN policy (you are using ActorCriticPolicy which should be a MlpPolicy). See https://github.com/DLR-RM/stable-baselines3/issues/1245 for more info. You can pass `device='cpu'` or `export CUDA_VISIBLE_DEVICES=` to force using the CPU.Note: The model will train, but the GPU utilization will be poor and the training might take longer than on CPU.\n",
            "  warnings.warn(\n"
          ]
        }
      ],
      "source": [
        "env = gym.make(\"CartPole-v1\")\n",
        "\n",
        "model = PPO(MlpPolicy, env, verbose=0)"
      ]
    },
    {
      "cell_type": "markdown",
      "metadata": {
        "id": "4efFdrQ7MBvl"
      },
      "source": [
        "We create a helper function to evaluate the agent:"
      ]
    },
    {
      "cell_type": "code",
      "execution_count": 7,
      "metadata": {
        "id": "63M8mSKR-6Zt"
      },
      "outputs": [],
      "source": [
        "from stable_baselines3.common.base_class import BaseAlgorithm\n",
        "\n",
        "\n",
        "def evaluate(\n",
        "    model: BaseAlgorithm,\n",
        "    num_episodes: int = 100,\n",
        "    deterministic: bool = True,\n",
        ") -> float:\n",
        "    \"\"\"\n",
        "    Evaluate an RL agent for `num_episodes`.\n",
        "\n",
        "    :param model: the RL Agent\n",
        "    :param env: the gym Environment\n",
        "    :param num_episodes: number of episodes to evaluate it\n",
        "    :param deterministic: Whether to use deterministic or stochastic actions\n",
        "    :return: Mean reward for the last `num_episodes`\n",
        "    \"\"\"\n",
        "    # This function will only work for a single environment\n",
        "    vec_env = model.get_env()\n",
        "    obs = vec_env.reset()\n",
        "    all_episode_rewards = []\n",
        "    for _ in range(num_episodes):\n",
        "        episode_rewards = []\n",
        "        done = False\n",
        "        # Note: SB3 VecEnv resets automatically:\n",
        "        # https://stable-baselines3.readthedocs.io/en/master/guide/vec_envs.html#vecenv-api-vs-gym-api\n",
        "        # obs = vec_env.reset()\n",
        "        while not done:\n",
        "            # _states are only useful when using LSTM policies\n",
        "            # `deterministic` is to use deterministic actions\n",
        "            action, _states = model.predict(obs, deterministic=deterministic)\n",
        "            # here, action, rewards and dones are arrays\n",
        "            # because we are using vectorized env\n",
        "            obs, reward, done, _info = vec_env.step(action)\n",
        "            episode_rewards.append(reward)\n",
        "\n",
        "        all_episode_rewards.append(sum(episode_rewards))\n",
        "\n",
        "    mean_episode_reward = np.mean(all_episode_rewards)\n",
        "    print(f\"Mean reward: {mean_episode_reward:.2f} - Num episodes: {num_episodes}\")\n",
        "\n",
        "    return mean_episode_reward"
      ]
    },
    {
      "cell_type": "markdown",
      "metadata": {
        "id": "zjEVOIY8NVeK"
      },
      "source": [
        "Let's evaluate the un-trained agent, this should be a random agent."
      ]
    },
    {
      "cell_type": "code",
      "execution_count": 8,
      "metadata": {
        "colab": {
          "base_uri": "https://localhost:8080/"
        },
        "id": "xDHLMA6NFk95",
        "outputId": "3e2bc26c-5313-4a2c-fddc-ecf2f07d036a"
      },
      "outputs": [
        {
          "output_type": "stream",
          "name": "stdout",
          "text": [
            "Mean reward: 44.31 - Num episodes: 100\n"
          ]
        }
      ],
      "source": [
        "# Random Agent, before training\n",
        "mean_reward_before_train = evaluate(model, num_episodes=100, deterministic=True)"
      ]
    },
    {
      "cell_type": "markdown",
      "metadata": {
        "id": "QjjPxrwkYJ2i"
      },
      "source": [
        "Stable-Baselines already provides you with that helper:"
      ]
    },
    {
      "cell_type": "code",
      "execution_count": 9,
      "metadata": {
        "id": "8z6K9YImYJEx"
      },
      "outputs": [],
      "source": [
        "from stable_baselines3.common.evaluation import evaluate_policy"
      ]
    },
    {
      "cell_type": "code",
      "execution_count": 10,
      "metadata": {
        "colab": {
          "base_uri": "https://localhost:8080/"
        },
        "id": "4oPTHjxyZSOL",
        "outputId": "7c279886-d2c0-4116-a678-f534ec0b3d00"
      },
      "outputs": [
        {
          "output_type": "stream",
          "name": "stdout",
          "text": [
            "mean_reward: 46.37 +/- 16.44\n"
          ]
        }
      ],
      "source": [
        "mean_reward, std_reward = evaluate_policy(model, env, n_eval_episodes=100, warn=False)\n",
        "\n",
        "print(f\"mean_reward: {mean_reward:.2f} +/- {std_reward:.2f}\")"
      ]
    },
    {
      "cell_type": "markdown",
      "metadata": {
        "id": "r5UoXTZPNdFE"
      },
      "source": [
        "## Train the agent and evaluate it"
      ]
    },
    {
      "cell_type": "code",
      "execution_count": 11,
      "metadata": {
        "colab": {
          "base_uri": "https://localhost:8080/"
        },
        "id": "e4cfSXIB-pTF",
        "outputId": "de277310-1a2c-4d46-9a66-4b3ac2c0f780"
      },
      "outputs": [
        {
          "output_type": "execute_result",
          "data": {
            "text/plain": [
              "<stable_baselines3.ppo.ppo.PPO at 0x7ab7183d8b10>"
            ]
          },
          "metadata": {},
          "execution_count": 11
        }
      ],
      "source": [
        "# Train the agent for 10000 steps\n",
        "model.learn(total_timesteps=10_000)"
      ]
    },
    {
      "cell_type": "code",
      "execution_count": 12,
      "metadata": {
        "colab": {
          "base_uri": "https://localhost:8080/"
        },
        "id": "ygl_gVmV_QP7",
        "outputId": "7885d0a7-11c2-4abc-b1f2-3d60abe4e011"
      },
      "outputs": [
        {
          "output_type": "stream",
          "name": "stderr",
          "text": [
            "/usr/local/lib/python3.11/dist-packages/stable_baselines3/common/evaluation.py:70: UserWarning: Evaluation environment is not wrapped with a ``Monitor`` wrapper. This may result in reporting modified episode lengths and rewards, if other wrappers happen to modify these. Consider wrapping environment first with ``Monitor`` wrapper.\n",
            "  warnings.warn(\n"
          ]
        },
        {
          "output_type": "stream",
          "name": "stdout",
          "text": [
            "mean_reward:288.60 +/- 101.90\n"
          ]
        }
      ],
      "source": [
        "# Evaluate the trained agent\n",
        "mean_reward, std_reward = evaluate_policy(model, env, n_eval_episodes=100)\n",
        "\n",
        "print(f\"mean_reward:{mean_reward:.2f} +/- {std_reward:.2f}\")"
      ]
    },
    {
      "cell_type": "markdown",
      "metadata": {
        "id": "A00W6yY3NkHG"
      },
      "source": [
        "Apparently the training went well, the mean reward increased a lot !"
      ]
    },
    {
      "cell_type": "markdown",
      "metadata": {
        "id": "xVm9QPNVwKXN"
      },
      "source": [
        "### Prepare video recording"
      ]
    },
    {
      "cell_type": "code",
      "execution_count": 13,
      "metadata": {
        "id": "MPyfQxD5z26J"
      },
      "outputs": [],
      "source": [
        "# Set up fake display; otherwise rendering will fail\n",
        "import os\n",
        "os.system(\"Xvfb :1 -screen 0 1024x768x24 &\")\n",
        "os.environ['DISPLAY'] = ':1'"
      ]
    },
    {
      "cell_type": "code",
      "execution_count": 14,
      "metadata": {
        "id": "SLzXxO8VMD6N"
      },
      "outputs": [],
      "source": [
        "import base64\n",
        "from pathlib import Path\n",
        "\n",
        "from IPython import display as ipythondisplay\n",
        "\n",
        "\n",
        "def show_videos(video_path=\"\", prefix=\"\"):\n",
        "    \"\"\"\n",
        "    Taken from https://github.com/eleurent/highway-env\n",
        "\n",
        "    :param video_path: (str) Path to the folder containing videos\n",
        "    :param prefix: (str) Filter the video, showing only the only starting with this prefix\n",
        "    \"\"\"\n",
        "    html = []\n",
        "    for mp4 in Path(video_path).glob(\"{}*.mp4\".format(prefix)):\n",
        "        video_b64 = base64.b64encode(mp4.read_bytes())\n",
        "        html.append(\n",
        "            \"\"\"<video alt=\"{}\" autoplay\n",
        "                    loop controls style=\"height: 400px;\">\n",
        "                    <source src=\"data:video/mp4;base64,{}\" type=\"video/mp4\" />\n",
        "                </video>\"\"\".format(\n",
        "                mp4, video_b64.decode(\"ascii\")\n",
        "            )\n",
        "        )\n",
        "    ipythondisplay.display(ipythondisplay.HTML(data=\"<br>\".join(html)))"
      ]
    },
    {
      "cell_type": "markdown",
      "metadata": {
        "id": "LTRNUfulOGaF"
      },
      "source": [
        "We will record a video using the [VecVideoRecorder](https://stable-baselines3.readthedocs.io/en/master/guide/vec_envs.html#vecvideorecorder) wrapper, you will learn about those wrapper in the next notebook."
      ]
    },
    {
      "cell_type": "code",
      "execution_count": 15,
      "metadata": {
        "id": "Trag9dQpOIhx"
      },
      "outputs": [],
      "source": [
        "from stable_baselines3.common.vec_env import VecVideoRecorder, DummyVecEnv\n",
        "\n",
        "\n",
        "def record_video(env_id, model, video_length=500, prefix=\"\", video_folder=\"videos/\"):\n",
        "    \"\"\"\n",
        "    :param env_id: (str)\n",
        "    :param model: (RL model)\n",
        "    :param video_length: (int)\n",
        "    :param prefix: (str)\n",
        "    :param video_folder: (str)\n",
        "    \"\"\"\n",
        "    eval_env = DummyVecEnv([lambda: gym.make(env_id, render_mode=\"rgb_array\")])\n",
        "    # Start the video at step=0 and record 500 steps\n",
        "    eval_env = VecVideoRecorder(\n",
        "        eval_env,\n",
        "        video_folder=video_folder,\n",
        "        record_video_trigger=lambda step: step == 0,\n",
        "        video_length=video_length,\n",
        "        name_prefix=prefix,\n",
        "    )\n",
        "\n",
        "    obs = eval_env.reset()\n",
        "    for _ in range(video_length):\n",
        "        action, _ = model.predict(obs)\n",
        "        obs, _, _, _ = eval_env.step(action)\n",
        "\n",
        "    # Close the video recorder\n",
        "    eval_env.close()"
      ]
    },
    {
      "cell_type": "markdown",
      "metadata": {
        "id": "KOObbeu5MMlR"
      },
      "source": [
        "### Visualize trained agent\n",
        "\n"
      ]
    },
    {
      "cell_type": "code",
      "execution_count": 16,
      "metadata": {
        "colab": {
          "base_uri": "https://localhost:8080/"
        },
        "id": "iATu7AiyMQW2",
        "outputId": "e723ddd7-232c-4e3a-8d38-6330adc33522"
      },
      "outputs": [
        {
          "output_type": "stream",
          "name": "stderr",
          "text": [
            "/usr/local/lib/python3.11/dist-packages/pygame/pkgdata.py:25: DeprecationWarning: pkg_resources is deprecated as an API. See https://setuptools.pypa.io/en/latest/pkg_resources.html\n",
            "  from pkg_resources import resource_stream, resource_exists\n",
            "/usr/local/lib/python3.11/dist-packages/pkg_resources/__init__.py:3154: DeprecationWarning: Deprecated call to `pkg_resources.declare_namespace('google')`.\n",
            "Implementing implicit namespace packages (as specified in PEP 420) is preferred to `pkg_resources.declare_namespace`. See https://setuptools.pypa.io/en/latest/references/keywords.html#keyword-namespace-packages\n",
            "  declare_namespace(pkg)\n",
            "/usr/local/lib/python3.11/dist-packages/pkg_resources/__init__.py:3154: DeprecationWarning: Deprecated call to `pkg_resources.declare_namespace('google.cloud')`.\n",
            "Implementing implicit namespace packages (as specified in PEP 420) is preferred to `pkg_resources.declare_namespace`. See https://setuptools.pypa.io/en/latest/references/keywords.html#keyword-namespace-packages\n",
            "  declare_namespace(pkg)\n",
            "/usr/local/lib/python3.11/dist-packages/pkg_resources/__init__.py:3154: DeprecationWarning: Deprecated call to `pkg_resources.declare_namespace('sphinxcontrib')`.\n",
            "Implementing implicit namespace packages (as specified in PEP 420) is preferred to `pkg_resources.declare_namespace`. See https://setuptools.pypa.io/en/latest/references/keywords.html#keyword-namespace-packages\n",
            "  declare_namespace(pkg)\n"
          ]
        },
        {
          "output_type": "stream",
          "name": "stdout",
          "text": [
            "Saving video to /content/videos/ppo-cartpole-step-0-to-step-500.mp4\n"
          ]
        },
        {
          "output_type": "stream",
          "name": "stderr",
          "text": [
            "/usr/local/lib/python3.11/dist-packages/moviepy/config_defaults.py:1: DeprecationWarning: invalid escape sequence '\\P'\n",
            "  \"\"\"\n"
          ]
        },
        {
          "output_type": "stream",
          "name": "stdout",
          "text": [
            "Moviepy - Building video /content/videos/ppo-cartpole-step-0-to-step-500.mp4.\n",
            "Moviepy - Writing video /content/videos/ppo-cartpole-step-0-to-step-500.mp4\n",
            "\n"
          ]
        },
        {
          "output_type": "stream",
          "name": "stderr",
          "text": []
        },
        {
          "output_type": "stream",
          "name": "stdout",
          "text": [
            "Moviepy - Done !\n",
            "Moviepy - video ready /content/videos/ppo-cartpole-step-0-to-step-500.mp4\n"
          ]
        }
      ],
      "source": [
        "record_video(\"CartPole-v1\", model, video_length=500, prefix=\"ppo-cartpole\")"
      ]
    },
    {
      "cell_type": "code",
      "execution_count": 17,
      "metadata": {
        "colab": {
          "base_uri": "https://localhost:8080/",
          "height": 422
        },
        "id": "-n4i-fW3NojZ",
        "outputId": "14a4d39e-d4cb-425b-cd0e-6f295d067818"
      },
      "outputs": [
        {
          "output_type": "display_data",
          "data": {
            "text/plain": [
              "<IPython.core.display.HTML object>"
            ],
            "text/html": [
              "<video alt=\"videos/ppo-cartpole-step-0-to-step-500.mp4\" autoplay \n",
              "                    loop controls style=\"height: 400px;\">\n",
              "                    <source src=\"data:video/mp4;base64,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\" type=\"video/mp4\" />\n",
              "                </video>"
            ]
          },
          "metadata": {}
        }
      ],
      "source": [
        "show_videos(\"videos\", prefix=\"ppo\")"
      ]
    },
    {
      "cell_type": "markdown",
      "metadata": {
        "id": "9Y8zg4V566qD"
      },
      "source": [
        "## Bonus: Train a RL Model in One Line\n",
        "\n",
        "The policy class to use will be inferred and the environment will be automatically created. This works because both are [registered](https://stable-baselines3.readthedocs.io/en/master/guide/quickstart.html)."
      ]
    },
    {
      "cell_type": "code",
      "execution_count": 18,
      "metadata": {
        "colab": {
          "base_uri": "https://localhost:8080/"
        },
        "id": "iaOPfOrwWEP4",
        "outputId": "e101fbf5-4959-42fb-c8ba-cb1d2c7c201a"
      },
      "outputs": [
        {
          "output_type": "stream",
          "name": "stdout",
          "text": [
            "Using cuda device\n",
            "Creating environment from the given name 'CartPole-v1'\n",
            "Wrapping the env with a `Monitor` wrapper\n",
            "Wrapping the env in a DummyVecEnv.\n"
          ]
        },
        {
          "output_type": "stream",
          "name": "stderr",
          "text": [
            "/usr/local/lib/python3.11/dist-packages/stable_baselines3/common/on_policy_algorithm.py:150: UserWarning: You are trying to run PPO on the GPU, but it is primarily intended to run on the CPU when not using a CNN policy (you are using ActorCriticPolicy which should be a MlpPolicy). See https://github.com/DLR-RM/stable-baselines3/issues/1245 for more info. You can pass `device='cpu'` or `export CUDA_VISIBLE_DEVICES=` to force using the CPU.Note: The model will train, but the GPU utilization will be poor and the training might take longer than on CPU.\n",
            "  warnings.warn(\n"
          ]
        },
        {
          "output_type": "stream",
          "name": "stdout",
          "text": [
            "---------------------------------\n",
            "| rollout/           |          |\n",
            "|    ep_len_mean     | 22.5     |\n",
            "|    ep_rew_mean     | 22.5     |\n",
            "| time/              |          |\n",
            "|    fps             | 698      |\n",
            "|    iterations      | 1        |\n",
            "|    time_elapsed    | 2        |\n",
            "|    total_timesteps | 2048     |\n",
            "---------------------------------\n"
          ]
        }
      ],
      "source": [
        "model = PPO('MlpPolicy', \"CartPole-v1\", verbose=1).learn(1000)"
      ]
    },
    {
      "cell_type": "markdown",
      "metadata": {
        "id": "FrI6f5fWnzp-"
      },
      "source": [
        "## Conclusion\n",
        "\n",
        "In this notebook we have seen:\n",
        "- how to define and train a RL model using stable baselines3, it takes only one line of code ;)"
      ]
    },
    {
      "cell_type": "code",
      "execution_count": null,
      "metadata": {
        "id": "73ji3gbNDkf7"
      },
      "outputs": [],
      "source": []
    }
  ],
  "metadata": {
    "accelerator": "GPU",
    "colab": {
      "name": "1_getting_started.ipynb",
      "provenance": [],
      "include_colab_link": true
    },
    "kernelspec": {
      "display_name": "Python 3 (ipykernel)",
      "language": "python",
      "name": "python3"
    },
    "language_info": {
      "codemirror_mode": {
        "name": "ipython",
        "version": 3
      },
      "file_extension": ".py",
      "mimetype": "text/x-python",
      "name": "python",
      "nbconvert_exporter": "python",
      "pygments_lexer": "ipython3",
      "version": "3.10.9"
    }
  },
  "nbformat": 4,
  "nbformat_minor": 0
}